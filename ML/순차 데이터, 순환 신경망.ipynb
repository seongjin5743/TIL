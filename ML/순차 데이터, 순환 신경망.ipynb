{
 "cells": [
  {
   "cell_type": "markdown",
   "metadata": {},
   "source": [
    "# 순차 데이터\n",
    "- 순차 데이터는 순서를 유지하며 신경망에 넣어야 됨\n",
    "- 예를 들어 i am a boy이 boy am a i처럼 순서가 바뀌면 말이 안 됨"
   ]
  },
  {
   "cell_type": "markdown",
   "metadata": {},
   "source": [
    "# 순환 신경망\n",
    "- 이전 데이터 처리한 것을 재사용\n",
    "- 샘플을 처리한 한 단계를 타임스템이라고 함"
   ]
  },
  {
   "cell_type": "code",
   "execution_count": 2,
   "metadata": {
    "executionInfo": {
     "elapsed": 3398,
     "status": "ok",
     "timestamp": 1741667936553,
     "user": {
      "displayName": "황성진",
      "userId": "02281363968245277443"
     },
     "user_tz": -540
    },
    "id": "vx3PL4ri9_OA"
   },
   "outputs": [],
   "source": [
    "from tensorflow import keras"
   ]
  },
  {
   "cell_type": "code",
   "execution_count": 3,
   "metadata": {
    "colab": {
     "base_uri": "https://localhost:8080/"
    },
    "executionInfo": {
     "elapsed": 3799,
     "status": "ok",
     "timestamp": 1741667941052,
     "user": {
      "displayName": "황성진",
      "userId": "02281363968245277443"
     },
     "user_tz": -540
    },
    "id": "xJy5FwVg_1A7",
    "outputId": "17dc0bf8-70c4-4daf-c939-dd2a2f3ec4cd"
   },
   "outputs": [
    {
     "name": "stdout",
     "output_type": "stream",
     "text": [
      "Downloading data from https://storage.googleapis.com/tensorflow/tf-keras-datasets/imdb.npz\n",
      "\u001b[1m17464789/17464789\u001b[0m \u001b[32m━━━━━━━━━━━━━━━━━━━━\u001b[0m\u001b[37m\u001b[0m \u001b[1m0s\u001b[0m 0us/step\n"
     ]
    }
   ],
   "source": [
    "(train_input, train_target), (test_input, test_target) = keras.datasets.imdb.load_data(num_words=300)"
   ]
  },
  {
   "cell_type": "code",
   "execution_count": 4,
   "metadata": {
    "colab": {
     "base_uri": "https://localhost:8080/"
    },
    "executionInfo": {
     "elapsed": 6,
     "status": "ok",
     "timestamp": 1741667941060,
     "user": {
      "displayName": "황성진",
      "userId": "02281363968245277443"
     },
     "user_tz": -540
    },
    "id": "FNwO9FJ0AJRJ",
    "outputId": "8a35afe8-a1c6-44ab-9b87-fa917169227e"
   },
   "outputs": [
    {
     "data": {
      "text/plain": [
       "(25000,)"
      ]
     },
     "execution_count": 4,
     "metadata": {},
     "output_type": "execute_result"
    }
   ],
   "source": [
    "train_input.shape"
   ]
  },
  {
   "cell_type": "code",
   "execution_count": 5,
   "metadata": {
    "colab": {
     "base_uri": "https://localhost:8080/"
    },
    "collapsed": true,
    "executionInfo": {
     "elapsed": 22,
     "status": "ok",
     "timestamp": 1741667941911,
     "user": {
      "displayName": "황성진",
      "userId": "02281363968245277443"
     },
     "user_tz": -540
    },
    "id": "Ongla4puAPiQ",
    "jupyter": {
     "outputs_hidden": true
    },
    "outputId": "9c6c6548-4ac1-41dc-88d2-b5e4b65329c8",
    "scrolled": true
   },
   "outputs": [
    {
     "data": {
      "text/plain": [
       "[1,\n",
       " 14,\n",
       " 22,\n",
       " 16,\n",
       " 43,\n",
       " 2,\n",
       " 2,\n",
       " 2,\n",
       " 2,\n",
       " 65,\n",
       " 2,\n",
       " 2,\n",
       " 66,\n",
       " 2,\n",
       " 4,\n",
       " 173,\n",
       " 36,\n",
       " 256,\n",
       " 5,\n",
       " 25,\n",
       " 100,\n",
       " 43,\n",
       " 2,\n",
       " 112,\n",
       " 50,\n",
       " 2,\n",
       " 2,\n",
       " 9,\n",
       " 35,\n",
       " 2,\n",
       " 284,\n",
       " 5,\n",
       " 150,\n",
       " 4,\n",
       " 172,\n",
       " 112,\n",
       " 167,\n",
       " 2,\n",
       " 2,\n",
       " 2,\n",
       " 39,\n",
       " 4,\n",
       " 172,\n",
       " 2,\n",
       " 2,\n",
       " 17,\n",
       " 2,\n",
       " 38,\n",
       " 13,\n",
       " 2,\n",
       " 4,\n",
       " 192,\n",
       " 50,\n",
       " 16,\n",
       " 6,\n",
       " 147,\n",
       " 2,\n",
       " 19,\n",
       " 14,\n",
       " 22,\n",
       " 4,\n",
       " 2,\n",
       " 2,\n",
       " 2,\n",
       " 4,\n",
       " 22,\n",
       " 71,\n",
       " 87,\n",
       " 12,\n",
       " 16,\n",
       " 43,\n",
       " 2,\n",
       " 38,\n",
       " 76,\n",
       " 15,\n",
       " 13,\n",
       " 2,\n",
       " 4,\n",
       " 22,\n",
       " 17,\n",
       " 2,\n",
       " 17,\n",
       " 12,\n",
       " 16,\n",
       " 2,\n",
       " 18,\n",
       " 2,\n",
       " 5,\n",
       " 62,\n",
       " 2,\n",
       " 12,\n",
       " 8,\n",
       " 2,\n",
       " 8,\n",
       " 106,\n",
       " 5,\n",
       " 4,\n",
       " 2,\n",
       " 2,\n",
       " 16,\n",
       " 2,\n",
       " 66,\n",
       " 2,\n",
       " 33,\n",
       " 4,\n",
       " 130,\n",
       " 12,\n",
       " 16,\n",
       " 38,\n",
       " 2,\n",
       " 5,\n",
       " 25,\n",
       " 124,\n",
       " 51,\n",
       " 36,\n",
       " 135,\n",
       " 48,\n",
       " 25,\n",
       " 2,\n",
       " 33,\n",
       " 6,\n",
       " 22,\n",
       " 12,\n",
       " 215,\n",
       " 28,\n",
       " 77,\n",
       " 52,\n",
       " 5,\n",
       " 14,\n",
       " 2,\n",
       " 16,\n",
       " 82,\n",
       " 2,\n",
       " 8,\n",
       " 4,\n",
       " 107,\n",
       " 117,\n",
       " 2,\n",
       " 15,\n",
       " 256,\n",
       " 4,\n",
       " 2,\n",
       " 7,\n",
       " 2,\n",
       " 5,\n",
       " 2,\n",
       " 36,\n",
       " 71,\n",
       " 43,\n",
       " 2,\n",
       " 2,\n",
       " 26,\n",
       " 2,\n",
       " 2,\n",
       " 46,\n",
       " 7,\n",
       " 4,\n",
       " 2,\n",
       " 2,\n",
       " 13,\n",
       " 104,\n",
       " 88,\n",
       " 4,\n",
       " 2,\n",
       " 15,\n",
       " 297,\n",
       " 98,\n",
       " 32,\n",
       " 2,\n",
       " 56,\n",
       " 26,\n",
       " 141,\n",
       " 6,\n",
       " 194,\n",
       " 2,\n",
       " 18,\n",
       " 4,\n",
       " 226,\n",
       " 22,\n",
       " 21,\n",
       " 134,\n",
       " 2,\n",
       " 26,\n",
       " 2,\n",
       " 5,\n",
       " 144,\n",
       " 30,\n",
       " 2,\n",
       " 18,\n",
       " 51,\n",
       " 36,\n",
       " 28,\n",
       " 224,\n",
       " 92,\n",
       " 25,\n",
       " 104,\n",
       " 4,\n",
       " 226,\n",
       " 65,\n",
       " 16,\n",
       " 38,\n",
       " 2,\n",
       " 88,\n",
       " 12,\n",
       " 16,\n",
       " 283,\n",
       " 5,\n",
       " 16,\n",
       " 2,\n",
       " 113,\n",
       " 103,\n",
       " 32,\n",
       " 15,\n",
       " 16,\n",
       " 2,\n",
       " 19,\n",
       " 178,\n",
       " 32]"
      ]
     },
     "execution_count": 5,
     "metadata": {},
     "output_type": "execute_result"
    }
   ],
   "source": [
    "train_input[0]"
   ]
  },
  {
   "cell_type": "code",
   "execution_count": 6,
   "metadata": {
    "colab": {
     "base_uri": "https://localhost:8080/"
    },
    "executionInfo": {
     "elapsed": 7,
     "status": "ok",
     "timestamp": 1741667942711,
     "user": {
      "displayName": "황성진",
      "userId": "02281363968245277443"
     },
     "user_tz": -540
    },
    "id": "H0i5hDhzDEWV",
    "outputId": "1840e7b9-0d1c-44ca-f363-041a355e15dc"
   },
   "outputs": [
    {
     "data": {
      "text/plain": [
       "array([1, 0, 0, 1, 0, 0, 1, 0, 1, 0])"
      ]
     },
     "execution_count": 6,
     "metadata": {},
     "output_type": "execute_result"
    }
   ],
   "source": [
    "train_target[:10]"
   ]
  },
  {
   "cell_type": "code",
   "execution_count": 7,
   "metadata": {
    "executionInfo": {
     "elapsed": 345,
     "status": "ok",
     "timestamp": 1741667943884,
     "user": {
      "displayName": "황성진",
      "userId": "02281363968245277443"
     },
     "user_tz": -540
    },
    "id": "u4GYHSvWDqEX"
   },
   "outputs": [],
   "source": [
    "from sklearn.model_selection import train_test_split\n",
    "train_input, val_input, train_target, val_target = train_test_split(train_input, train_target)"
   ]
  },
  {
   "cell_type": "code",
   "execution_count": 8,
   "metadata": {
    "colab": {
     "base_uri": "https://localhost:8080/"
    },
    "executionInfo": {
     "elapsed": 124,
     "status": "ok",
     "timestamp": 1741667944555,
     "user": {
      "displayName": "황성진",
      "userId": "02281363968245277443"
     },
     "user_tz": -540
    },
    "id": "jgbwSV5PD7xR",
    "outputId": "6e7b7375-0eb3-4349-9875-507c284683bf"
   },
   "outputs": [
    {
     "data": {
      "text/plain": [
       "(18750, 100)"
      ]
     },
     "execution_count": 8,
     "metadata": {},
     "output_type": "execute_result"
    }
   ],
   "source": [
    "from keras.preprocessing.sequence import pad_sequences\n",
    "train_seq = pad_sequences(train_input, maxlen = 100)\n",
    "train_seq.shape"
   ]
  },
  {
   "cell_type": "code",
   "execution_count": 9,
   "metadata": {
    "colab": {
     "base_uri": "https://localhost:8080/"
    },
    "executionInfo": {
     "elapsed": 15,
     "status": "ok",
     "timestamp": 1741667945287,
     "user": {
      "displayName": "황성진",
      "userId": "02281363968245277443"
     },
     "user_tz": -540
    },
    "id": "PYJ3zR7RE-f_",
    "outputId": "a9b17255-1b82-468c-f647-304ebaa04717"
   },
   "outputs": [
    {
     "data": {
      "text/plain": [
       "array([200,   4, 107,   2, 142,   2,  39,   2,  21, 131, 164,   2,  42,\n",
       "        60,   2,   4,  22, 165,   2, 118,  17,   6,   2,   2,   8,   2,\n",
       "         4,   2,   7,   2,   5,  17,  35,   2,   2, 228,   2,  50,  26,\n",
       "         2,   2,   2,   2,   2,   7,   2,   5, 225, 210,   2, 228,   2,\n",
       "         2,  66,   2,  42,   2,  11,   4,   2,   2,   2, 101,  96,   4,\n",
       "         2,   2,   9,   6,   2,  93,   5,   2,   2,  21,  99,   2,   5,\n",
       "         2,   2,   5,  13,   2,   2,  91,   7,  94,   2,  62,  60,  69,\n",
       "         2,   8, 106,  48,  12,   2,   6,   2,   2], dtype=int32)"
      ]
     },
     "execution_count": 9,
     "metadata": {},
     "output_type": "execute_result"
    }
   ],
   "source": [
    "train_seq[0]"
   ]
  },
  {
   "cell_type": "code",
   "execution_count": 10,
   "metadata": {
    "colab": {
     "base_uri": "https://localhost:8080/"
    },
    "executionInfo": {
     "elapsed": 8,
     "status": "ok",
     "timestamp": 1741667946094,
     "user": {
      "displayName": "황성진",
      "userId": "02281363968245277443"
     },
     "user_tz": -540
    },
    "id": "DJRTcYH8FaxQ",
    "outputId": "f5b7364d-3803-4525-ed7b-7a0da82f97dd"
   },
   "outputs": [
    {
     "data": {
      "text/plain": [
       "[69, 2, 8, 106, 48, 12, 2, 6, 2, 2]"
      ]
     },
     "execution_count": 10,
     "metadata": {},
     "output_type": "execute_result"
    }
   ],
   "source": [
    "# train_input의 앞 부분이 짤림\n",
    "train_input[0][-10:]"
   ]
  },
  {
   "cell_type": "code",
   "execution_count": 11,
   "metadata": {
    "executionInfo": {
     "elapsed": 38,
     "status": "ok",
     "timestamp": 1741667946669,
     "user": {
      "displayName": "황성진",
      "userId": "02281363968245277443"
     },
     "user_tz": -540
    },
    "id": "uYAZ8GxNFlup"
   },
   "outputs": [],
   "source": [
    "val_seq = pad_sequences(val_input, maxlen = 100)"
   ]
  },
  {
   "cell_type": "code",
   "execution_count": 12,
   "metadata": {
    "colab": {
     "base_uri": "https://localhost:8080/"
    },
    "executionInfo": {
     "elapsed": 8,
     "status": "ok",
     "timestamp": 1741667947359,
     "user": {
      "displayName": "황성진",
      "userId": "02281363968245277443"
     },
     "user_tz": -540
    },
    "id": "DKItGKDCGOel",
    "outputId": "c39e7117-66e9-4689-9df1-911e066d930a"
   },
   "outputs": [
    {
     "data": {
      "text/plain": [
       "(6250, 100)"
      ]
     },
     "execution_count": 12,
     "metadata": {},
     "output_type": "execute_result"
    }
   ],
   "source": [
    "val_seq.shape"
   ]
  },
  {
   "cell_type": "code",
   "execution_count": 13,
   "metadata": {
    "colab": {
     "base_uri": "https://localhost:8080/"
    },
    "executionInfo": {
     "elapsed": 2797,
     "status": "ok",
     "timestamp": 1741667955067,
     "user": {
      "displayName": "황성진",
      "userId": "02281363968245277443"
     },
     "user_tz": -540
    },
    "id": "UxGKDtMOGRqD",
    "outputId": "2e17629e-660f-4e72-c2a6-90c60f956766"
   },
   "outputs": [
    {
     "name": "stderr",
     "output_type": "stream",
     "text": [
      "/usr/local/lib/python3.11/dist-packages/keras/src/layers/rnn/rnn.py:200: UserWarning: Do not pass an `input_shape`/`input_dim` argument to a layer. When using Sequential models, prefer using an `Input(shape)` object as the first layer in the model instead.\n",
      "  super().__init__(**kwargs)\n"
     ]
    }
   ],
   "source": [
    "# 순환 신경망\n",
    "model = keras.Sequential()\n",
    "model.add(keras.layers.SimpleRNN(8, input_shape = (100, 300)))\n",
    "model.add(keras.layers.Dense(1, activation = 'sigmoid'))"
   ]
  },
  {
   "cell_type": "code",
   "execution_count": 14,
   "metadata": {
    "executionInfo": {
     "elapsed": 2125,
     "status": "ok",
     "timestamp": 1741667957842,
     "user": {
      "displayName": "황성진",
      "userId": "02281363968245277443"
     },
     "user_tz": -540
    },
    "id": "AVzjpD_hHB9C"
   },
   "outputs": [],
   "source": [
    "train_oh = keras.utils.to_categorical(train_seq)"
   ]
  },
  {
   "cell_type": "code",
   "execution_count": 15,
   "metadata": {
    "colab": {
     "base_uri": "https://localhost:8080/"
    },
    "executionInfo": {
     "elapsed": 17,
     "status": "ok",
     "timestamp": 1741667957863,
     "user": {
      "displayName": "황성진",
      "userId": "02281363968245277443"
     },
     "user_tz": -540
    },
    "id": "4f_adj_aI5pg",
    "outputId": "b80363f0-2439-4c96-d46b-f8ca8b21144e"
   },
   "outputs": [
    {
     "data": {
      "text/plain": [
       "(18750, 100, 300)"
      ]
     },
     "execution_count": 15,
     "metadata": {},
     "output_type": "execute_result"
    }
   ],
   "source": [
    "train_oh.shape"
   ]
  },
  {
   "cell_type": "code",
   "execution_count": 16,
   "metadata": {
    "colab": {
     "base_uri": "https://localhost:8080/"
    },
    "executionInfo": {
     "elapsed": 6,
     "status": "ok",
     "timestamp": 1741667957870,
     "user": {
      "displayName": "황성진",
      "userId": "02281363968245277443"
     },
     "user_tz": -540
    },
    "id": "0WLOqnqlJBD1",
    "outputId": "6227e5bd-a138-49d6-b980-d83dc82f587e"
   },
   "outputs": [
    {
     "data": {
      "text/plain": [
       "array([0., 0., 0., 0., 0., 0., 0., 0., 0., 0., 0., 0., 0., 0., 0., 0., 0.,\n",
       "       0., 0., 0., 0., 0., 0., 0., 0., 0., 0., 0., 0., 0., 0., 0., 0., 0.,\n",
       "       0., 0., 0., 0., 0., 0., 0., 0., 0., 0., 0., 0., 0., 0., 0., 0., 0.,\n",
       "       0., 0., 0., 0., 0., 0., 0., 0., 0., 0., 0., 0., 0., 0., 0., 0., 0.,\n",
       "       0., 0., 0., 0., 0., 0., 0., 0., 0., 0., 0., 0., 0., 0., 0., 0., 0.,\n",
       "       0., 0., 0., 0., 0., 0., 0., 0., 0., 0., 0., 0., 0., 0., 0., 0., 0.,\n",
       "       0., 0., 0., 0., 0., 0., 0., 0., 0., 0., 0., 0., 0., 0., 0., 0., 0.,\n",
       "       0., 0., 0., 0., 0., 0., 0., 0., 0., 0., 0., 0., 0., 0., 0., 0., 0.,\n",
       "       0., 0., 0., 0., 0., 0., 0., 0., 0., 0., 0., 0., 0., 0., 0., 0., 0.,\n",
       "       0., 0., 0., 0., 0., 0., 0., 0., 0., 0., 0., 0., 0., 0., 0., 0., 0.,\n",
       "       0., 0., 0., 0., 0., 0., 0., 0., 0., 0., 0., 0., 0., 0., 0., 0., 0.,\n",
       "       0., 0., 0., 0., 0., 0., 0., 0., 0., 0., 0., 0., 0., 1., 0., 0., 0.,\n",
       "       0., 0., 0., 0., 0., 0., 0., 0., 0., 0., 0., 0., 0., 0., 0., 0., 0.,\n",
       "       0., 0., 0., 0., 0., 0., 0., 0., 0., 0., 0., 0., 0., 0., 0., 0., 0.,\n",
       "       0., 0., 0., 0., 0., 0., 0., 0., 0., 0., 0., 0., 0., 0., 0., 0., 0.,\n",
       "       0., 0., 0., 0., 0., 0., 0., 0., 0., 0., 0., 0., 0., 0., 0., 0., 0.,\n",
       "       0., 0., 0., 0., 0., 0., 0., 0., 0., 0., 0., 0., 0., 0., 0., 0., 0.,\n",
       "       0., 0., 0., 0., 0., 0., 0., 0., 0., 0., 0.])"
      ]
     },
     "execution_count": 16,
     "metadata": {},
     "output_type": "execute_result"
    }
   ],
   "source": [
    "train_oh[0][0]"
   ]
  },
  {
   "cell_type": "code",
   "execution_count": 17,
   "metadata": {
    "executionInfo": {
     "elapsed": 792,
     "status": "ok",
     "timestamp": 1741667958866,
     "user": {
      "displayName": "황성진",
      "userId": "02281363968245277443"
     },
     "user_tz": -540
    },
    "id": "6m9oQU8RJEdR"
   },
   "outputs": [],
   "source": [
    "val_oh = keras.utils.to_categorical(val_seq)"
   ]
  },
  {
   "cell_type": "code",
   "execution_count": null,
   "metadata": {
    "id": "rTVKXRXIKV_t"
   },
   "outputs": [],
   "source": [
    "# keras.optimizers.RMSprop(learning_rate = 1e-4)\n",
    "# model.compile(optimizer = 'rmsprop', loss = 'binary_crossentropy', metrics = ['accuracy'])\n",
    "# es = keras.callbacks.EarlyStopping(patience = 3)\n",
    "# result = model.fit(train_oh, train_target, epochs = 10, validation_data = (val_oh, val_target), callbacks = [es])"
   ]
  },
  {
   "cell_type": "code",
   "execution_count": 18,
   "metadata": {
    "colab": {
     "base_uri": "https://localhost:8080/"
    },
    "executionInfo": {
     "elapsed": 17,
     "status": "ok",
     "timestamp": 1741668080356,
     "user": {
      "displayName": "황성진",
      "userId": "02281363968245277443"
     },
     "user_tz": -540
    },
    "id": "8pGldBHmL0WX",
    "outputId": "93d388e4-e85f-4cb7-d28d-9fcb86e1dea5"
   },
   "outputs": [
    {
     "name": "stderr",
     "output_type": "stream",
     "text": [
      "/usr/local/lib/python3.11/dist-packages/keras/src/layers/core/embedding.py:90: UserWarning: Argument `input_length` is deprecated. Just remove it.\n",
      "  warnings.warn(\n"
     ]
    }
   ],
   "source": [
    "# 단어 임베딩\n",
    "model2 = keras.Sequential()\n",
    "model2.add(keras.layers.Embedding(300, 16, input_length = 100))\n",
    "model2.add(keras.layers.SimpleRNN(8))\n",
    "model2.add(keras.layers.Dense(1, activation = 'sigmoid'))"
   ]
  },
  {
   "cell_type": "code",
   "execution_count": 19,
   "metadata": {
    "colab": {
     "base_uri": "https://localhost:8080/"
    },
    "executionInfo": {
     "elapsed": 100092,
     "status": "ok",
     "timestamp": 1741668317881,
     "user": {
      "displayName": "황성진",
      "userId": "02281363968245277443"
     },
     "user_tz": -540
    },
    "id": "q3V5ZybVgdom",
    "outputId": "6b00593a-d160-4c2c-944f-d67b0d983598"
   },
   "outputs": [
    {
     "name": "stdout",
     "output_type": "stream",
     "text": [
      "Epoch 1/100\n",
      "\u001b[1m586/586\u001b[0m \u001b[32m━━━━━━━━━━━━━━━━━━━━\u001b[0m\u001b[37m\u001b[0m \u001b[1m15s\u001b[0m 17ms/step - accuracy: 0.5187 - loss: 0.6932 - val_accuracy: 0.5371 - val_loss: 0.6887\n",
      "Epoch 2/100\n",
      "\u001b[1m586/586\u001b[0m \u001b[32m━━━━━━━━━━━━━━━━━━━━\u001b[0m\u001b[37m\u001b[0m \u001b[1m13s\u001b[0m 10ms/step - accuracy: 0.5855 - loss: 0.6697 - val_accuracy: 0.6534 - val_loss: 0.6267\n",
      "Epoch 3/100\n",
      "\u001b[1m586/586\u001b[0m \u001b[32m━━━━━━━━━━━━━━━━━━━━\u001b[0m\u001b[37m\u001b[0m \u001b[1m6s\u001b[0m 10ms/step - accuracy: 0.6781 - loss: 0.6075 - val_accuracy: 0.7155 - val_loss: 0.5735\n",
      "Epoch 4/100\n",
      "\u001b[1m586/586\u001b[0m \u001b[32m━━━━━━━━━━━━━━━━━━━━\u001b[0m\u001b[37m\u001b[0m \u001b[1m6s\u001b[0m 10ms/step - accuracy: 0.7220 - loss: 0.5619 - val_accuracy: 0.7118 - val_loss: 0.5723\n",
      "Epoch 5/100\n",
      "\u001b[1m586/586\u001b[0m \u001b[32m━━━━━━━━━━━━━━━━━━━━\u001b[0m\u001b[37m\u001b[0m \u001b[1m6s\u001b[0m 10ms/step - accuracy: 0.7280 - loss: 0.5538 - val_accuracy: 0.7022 - val_loss: 0.5899\n",
      "Epoch 6/100\n",
      "\u001b[1m586/586\u001b[0m \u001b[32m━━━━━━━━━━━━━━━━━━━━\u001b[0m\u001b[37m\u001b[0m \u001b[1m10s\u001b[0m 10ms/step - accuracy: 0.7491 - loss: 0.5269 - val_accuracy: 0.7261 - val_loss: 0.5511\n",
      "Epoch 7/100\n",
      "\u001b[1m586/586\u001b[0m \u001b[32m━━━━━━━━━━━━━━━━━━━━\u001b[0m\u001b[37m\u001b[0m \u001b[1m6s\u001b[0m 10ms/step - accuracy: 0.7600 - loss: 0.5123 - val_accuracy: 0.7240 - val_loss: 0.5542\n",
      "Epoch 8/100\n",
      "\u001b[1m586/586\u001b[0m \u001b[32m━━━━━━━━━━━━━━━━━━━━\u001b[0m\u001b[37m\u001b[0m \u001b[1m6s\u001b[0m 10ms/step - accuracy: 0.7516 - loss: 0.5137 - val_accuracy: 0.7418 - val_loss: 0.5424\n",
      "Epoch 9/100\n",
      "\u001b[1m586/586\u001b[0m \u001b[32m━━━━━━━━━━━━━━━━━━━━\u001b[0m\u001b[37m\u001b[0m \u001b[1m10s\u001b[0m 10ms/step - accuracy: 0.7624 - loss: 0.4977 - val_accuracy: 0.7326 - val_loss: 0.5383\n",
      "Epoch 10/100\n",
      "\u001b[1m586/586\u001b[0m \u001b[32m━━━━━━━━━━━━━━━━━━━━\u001b[0m\u001b[37m\u001b[0m \u001b[1m6s\u001b[0m 10ms/step - accuracy: 0.7638 - loss: 0.4912 - val_accuracy: 0.7395 - val_loss: 0.5372\n",
      "Epoch 11/100\n",
      "\u001b[1m586/586\u001b[0m \u001b[32m━━━━━━━━━━━━━━━━━━━━\u001b[0m\u001b[37m\u001b[0m \u001b[1m6s\u001b[0m 10ms/step - accuracy: 0.7704 - loss: 0.4898 - val_accuracy: 0.7272 - val_loss: 0.5387\n",
      "Epoch 12/100\n",
      "\u001b[1m586/586\u001b[0m \u001b[32m━━━━━━━━━━━━━━━━━━━━\u001b[0m\u001b[37m\u001b[0m \u001b[1m10s\u001b[0m 10ms/step - accuracy: 0.7702 - loss: 0.4836 - val_accuracy: 0.7395 - val_loss: 0.5485\n"
     ]
    }
   ],
   "source": [
    "model2.compile(loss = 'binary_crossentropy', metrics = ['accuracy'])\n",
    "es = keras.callbacks.EarlyStopping(patience = 2)\n",
    "result = model2.fit(train_seq, train_target, epochs = 100, validation_data = (val_seq, val_target), callbacks = [es])"
   ]
  },
  {
   "cell_type": "code",
   "execution_count": null,
   "metadata": {
    "id": "qsFeQqH9g_L8"
   },
   "outputs": [],
   "source": []
  }
 ],
 "metadata": {
  "accelerator": "GPU",
  "colab": {
   "authorship_tag": "ABX9TyN/6q/A2k3esRss4k90p7dX",
   "gpuType": "T4",
   "provenance": []
  },
  "kernelspec": {
   "display_name": "Python 3 (ipykernel)",
   "language": "python",
   "name": "python3"
  },
  "language_info": {
   "codemirror_mode": {
    "name": "ipython",
    "version": 3
   },
   "file_extension": ".py",
   "mimetype": "text/x-python",
   "name": "python",
   "nbconvert_exporter": "python",
   "pygments_lexer": "ipython3",
   "version": "3.13.2"
  }
 },
 "nbformat": 4,
 "nbformat_minor": 4
}
