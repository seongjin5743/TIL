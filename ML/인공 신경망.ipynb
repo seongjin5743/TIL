{
 "cells": [
  {
   "cell_type": "markdown",
   "metadata": {},
   "source": [
    "# 인공 신경망\n",
    "- 이미지를 1차원 배열로 풀어내서 입력층을 만들어내고 계산을 출력층을 통해 계산해 냄"
   ]
  },
  {
   "cell_type": "code",
   "execution_count": 1,
   "metadata": {
    "executionInfo": {
     "elapsed": 5454,
     "status": "ok",
     "timestamp": 1741568135751,
     "user": {
      "displayName": "황성진",
      "userId": "02281363968245277443"
     },
     "user_tz": -540
    },
    "id": "KoBGxDM1iz2h"
   },
   "outputs": [],
   "source": [
    "from tensorflow import keras"
   ]
  },
  {
   "cell_type": "code",
   "execution_count": 3,
   "metadata": {
    "executionInfo": {
     "elapsed": 481,
     "status": "ok",
     "timestamp": 1741568384677,
     "user": {
      "displayName": "황성진",
      "userId": "02281363968245277443"
     },
     "user_tz": -540
    },
    "id": "s4rXkxa9jLv_"
   },
   "outputs": [],
   "source": [
    "(train_input, train_target), (test_input, test_target) = keras.datasets.fashion_mnist.load_data()"
   ]
  },
  {
   "cell_type": "code",
   "execution_count": 4,
   "metadata": {
    "colab": {
     "base_uri": "https://localhost:8080/"
    },
    "executionInfo": {
     "elapsed": 9,
     "status": "ok",
     "timestamp": 1741568412227,
     "user": {
      "displayName": "황성진",
      "userId": "02281363968245277443"
     },
     "user_tz": -540
    },
    "id": "LIfJSlAvjsOP",
    "outputId": "c8d3150c-dc23-4ab3-fc98-67d7d0f30947"
   },
   "outputs": [
    {
     "data": {
      "text/plain": [
       "(60000, 28, 28)"
      ]
     },
     "execution_count": 4,
     "metadata": {},
     "output_type": "execute_result"
    }
   ],
   "source": [
    "train_input.shape"
   ]
  },
  {
   "cell_type": "code",
   "execution_count": 11,
   "metadata": {
    "colab": {
     "base_uri": "https://localhost:8080/",
     "height": 448
    },
    "executionInfo": {
     "elapsed": 173,
     "status": "ok",
     "timestamp": 1741568904766,
     "user": {
      "displayName": "황성진",
      "userId": "02281363968245277443"
     },
     "user_tz": -540
    },
    "id": "zK_OEOKIkQl3",
    "outputId": "1d9792df-bbfd-453f-9476-2a65b43159fd"
   },
   "outputs": [
    {
     "data": {
      "text/plain": [
       "<matplotlib.image.AxesImage at 0x7be1867518d0>"
      ]
     },
     "execution_count": 11,
     "metadata": {},
     "output_type": "execute_result"
    },
    {
     "data": {
      "image/png": "[encoded data removed]",
      "text/plain": [
       "<Figure size 640x480 with 1 Axes>"
      ]
     },
     "metadata": {},
     "output_type": "display_data"
    }
   ],
   "source": [
    "import matplotlib.pyplot as plt\n",
    "\n",
    "plt.imshow(train_input[10000], cmap='gray_r')"
   ]
  },
  {
   "cell_type": "code",
   "execution_count": 14,
   "metadata": {
    "executionInfo": {
     "elapsed": 245,
     "status": "ok",
     "timestamp": 1741569176758,
     "user": {
      "displayName": "황성진",
      "userId": "02281363968245277443"
     },
     "user_tz": -540
    },
    "id": "4oMzoIqlk7fj"
   },
   "outputs": [],
   "source": [
    "# 이미지 데이터를 28x28 형태에서 784 길이의 1차원 배열로 변환\n",
    "train_scaled = train_input / 255.0\n",
    "train_scaled = train_scaled.reshape(-1, 28*28)"
   ]
  },
  {
   "cell_type": "code",
   "execution_count": 16,
   "metadata": {
    "colab": {
     "base_uri": "https://localhost:8080/"
    },
    "executionInfo": {
     "elapsed": 30634,
     "status": "ok",
     "timestamp": 1741569444848,
     "user": {
      "displayName": "황성진",
      "userId": "02281363968245277443"
     },
     "user_tz": -540
    },
    "id": "wQCPscJtmzcv",
    "outputId": "6bc2e06e-cfc7-4ae2-c49b-e22478d39a04"
   },
   "outputs": [
    {
     "name": "stdout",
     "output_type": "stream",
     "text": [
      "{'fit_time': array([11.51418924, 11.38840914, 11.24489808, 11.43736482,  6.98357248]), 'score_time': array([0.06127381, 0.04413152, 0.08732629, 0.05112028, 0.04695106]), 'test_score': array([0.81008333, 0.77283333, 0.83683333, 0.80658333, 0.82558333])}\n"
     ]
    }
   ],
   "source": [
    "# 훈련 및 평가\n",
    "from sklearn.model_selection import cross_validate\n",
    "from sklearn.linear_model import SGDClassifier\n",
    "\n",
    "sc = SGDClassifier(loss = 'log_loss', max_iter = 5)\n",
    "scores = cross_validate(sc, train_scaled, train_target, n_jobs = -1)\n",
    "print(scores)"
   ]
  },
  {
   "cell_type": "code",
   "execution_count": 17,
   "metadata": {
    "executionInfo": {
     "elapsed": 36,
     "status": "ok",
     "timestamp": 1741570633009,
     "user": {
      "displayName": "황성진",
      "userId": "02281363968245277443"
     },
     "user_tz": -540
    },
    "id": "K1z1OPLrn9H2"
   },
   "outputs": [],
   "source": [
    "import tensorflow as tf"
   ]
  },
  {
   "cell_type": "code",
   "execution_count": 19,
   "metadata": {
    "executionInfo": {
     "elapsed": 142,
     "status": "ok",
     "timestamp": 1741570805624,
     "user": {
      "displayName": "황성진",
      "userId": "02281363968245277443"
     },
     "user_tz": -540
    },
    "id": "u0hxSGOGsuxU"
   },
   "outputs": [],
   "source": [
    "from sklearn.model_selection import train_test_split\n",
    "\n",
    "train_scaled, val_scaled, train_target, val_target = train_test_split(train_scaled, train_target)"
   ]
  },
  {
   "cell_type": "code",
   "execution_count": 22,
   "metadata": {
    "colab": {
     "base_uri": "https://localhost:8080/"
    },
    "executionInfo": {
     "elapsed": 7,
     "status": "ok",
     "timestamp": 1741571264269,
     "user": {
      "displayName": "황성진",
      "userId": "02281363968245277443"
     },
     "user_tz": -540
    },
    "id": "9ktJ_30Ws0eG",
    "outputId": "66e47dd4-0459-47c7-9c3f-5ef89eaa1d90"
   },
   "outputs": [
    {
     "name": "stderr",
     "output_type": "stream",
     "text": [
      "/usr/local/lib/python3.11/dist-packages/keras/src/layers/core/dense.py:87: UserWarning: Do not pass an `input_shape`/`input_dim` argument to a layer. When using Sequential models, prefer using an `Input(shape)` object as the first layer in the model instead.\n",
      "  super().__init__(activity_regularizer=activity_regularizer, **kwargs)\n"
     ]
    }
   ],
   "source": [
    "# 10개의 출력 뉴런을 가진 완전 연결층을 만듬. softmax 활성화 함수를 사용\n",
    "dense = keras.layers.Dense(10, activation = 'softmax', input_shape = (784,))"
   ]
  },
  {
   "cell_type": "code",
   "execution_count": 24,
   "metadata": {
    "executionInfo": {
     "elapsed": 3,
     "status": "ok",
     "timestamp": 1741571268870,
     "user": {
      "displayName": "황성진",
      "userId": "02281363968245277443"
     },
     "user_tz": -540
    },
    "id": "c3MidbrVtcXS"
   },
   "outputs": [],
   "source": [
    "model = keras.Sequential([dense])"
   ]
  },
  {
   "cell_type": "code",
   "execution_count": 27,
   "metadata": {
    "executionInfo": {
     "elapsed": 41,
     "status": "ok",
     "timestamp": 1741571618535,
     "user": {
      "displayName": "황성진",
      "userId": "02281363968245277443"
     },
     "user_tz": -540
    },
    "id": "9HVARAJSvGdA"
   },
   "outputs": [],
   "source": [
    "# 이진 크로스 엔트로피 손실 함수를 사용\n",
    "model.compile(loss = 'sparse_categorical_crossentropy', metrics = ['accuracy'])"
   ]
  },
  {
   "cell_type": "code",
   "execution_count": 28,
   "metadata": {
    "colab": {
     "base_uri": "https://localhost:8080/"
    },
    "executionInfo": {
     "elapsed": 13482,
     "status": "ok",
     "timestamp": 1741571632913,
     "user": {
      "displayName": "황성진",
      "userId": "02281363968245277443"
     },
     "user_tz": -540
    },
    "id": "iYpee53lv6bl",
    "outputId": "7746f1bd-a07f-4264-a11a-3f34677c1563"
   },
   "outputs": [
    {
     "name": "stdout",
     "output_type": "stream",
     "text": [
      "Epoch 1/5\n",
      "\u001b[1m1125/1125\u001b[0m \u001b[32m━━━━━━━━━━━━━━━━━━━━\u001b[0m\u001b[37m\u001b[0m \u001b[1m3s\u001b[0m 2ms/step - accuracy: 0.7307 - loss: 0.8243\n",
      "Epoch 2/5\n",
      "\u001b[1m1125/1125\u001b[0m \u001b[32m━━━━━━━━━━━━━━━━━━━━\u001b[0m\u001b[37m\u001b[0m \u001b[1m2s\u001b[0m 2ms/step - accuracy: 0.8306 - loss: 0.5004\n",
      "Epoch 3/5\n",
      "\u001b[1m1125/1125\u001b[0m \u001b[32m━━━━━━━━━━━━━━━━━━━━\u001b[0m\u001b[37m\u001b[0m \u001b[1m3s\u001b[0m 2ms/step - accuracy: 0.8413 - loss: 0.4582\n",
      "Epoch 4/5\n",
      "\u001b[1m1125/1125\u001b[0m \u001b[32m━━━━━━━━━━━━━━━━━━━━\u001b[0m\u001b[37m\u001b[0m \u001b[1m2s\u001b[0m 2ms/step - accuracy: 0.8510 - loss: 0.4424\n",
      "Epoch 5/5\n",
      "\u001b[1m1125/1125\u001b[0m \u001b[32m━━━━━━━━━━━━━━━━━━━━\u001b[0m\u001b[37m\u001b[0m \u001b[1m3s\u001b[0m 2ms/step - accuracy: 0.8513 - loss: 0.4377\n"
     ]
    },
    {
     "data": {
      "text/plain": [
       "<keras.src.callbacks.history.History at 0x7be16f944350>"
      ]
     },
     "execution_count": 28,
     "metadata": {},
     "output_type": "execute_result"
    }
   ],
   "source": [
    "# 모델 5번 반복 학습\n",
    "model.fit(train_scaled, train_target, epochs = 5)"
   ]
  },
  {
   "cell_type": "code",
   "execution_count": 29,
   "metadata": {
    "colab": {
     "base_uri": "https://localhost:8080/"
    },
    "executionInfo": {
     "elapsed": 1041,
     "status": "ok",
     "timestamp": 1741571720333,
     "user": {
      "displayName": "황성진",
      "userId": "02281363968245277443"
     },
     "user_tz": -540
    },
    "id": "sGtoTefCwfmj",
    "outputId": "9c972f96-91ec-40ba-def5-cd7823d0ee3e"
   },
   "outputs": [
    {
     "name": "stdout",
     "output_type": "stream",
     "text": [
      "\u001b[1m375/375\u001b[0m \u001b[32m━━━━━━━━━━━━━━━━━━━━\u001b[0m\u001b[37m\u001b[0m \u001b[1m1s\u001b[0m 2ms/step - accuracy: 0.8498 - loss: 0.4506\n"
     ]
    },
    {
     "data": {
      "text/plain": [
       "[0.4498356580734253, 0.8495000004768372]"
      ]
     },
     "execution_count": 29,
     "metadata": {},
     "output_type": "execute_result"
    }
   ],
   "source": [
    "# 모델 검증 및 평가\n",
    "model.evaluate(val_scaled, val_target)"
   ]
  },
  {
   "cell_type": "code",
   "execution_count": null,
   "metadata": {
    "id": "rpY3Ijs7w3-5"
   },
   "outputs": [],
   "source": []
  }
 ],
 "metadata": {
  "colab": {
   "authorship_tag": "ABX9TyPq+fkjy8XSzXXaglHhCdEp",
   "provenance": []
  },
  "kernelspec": {
   "display_name": "Python 3 (ipykernel)",
   "language": "python",
   "name": "python3"
  },
  "language_info": {
   "codemirror_mode": {
    "name": "ipython",
    "version": 3
   },
   "file_extension": ".py",
   "mimetype": "text/x-python",
   "name": "python",
   "nbconvert_exporter": "python",
   "pygments_lexer": "ipython3",
   "version": "3.13.2"
  }
 },
 "nbformat": 4,
 "nbformat_minor": 4
}
