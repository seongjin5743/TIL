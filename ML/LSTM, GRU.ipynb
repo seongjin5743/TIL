{
 "cells": [
  {
   "cell_type": "markdown",
   "metadata": {
    "id": "8QDFjcG-lLRU"
   },
   "source": [
    "# LSTM\n",
    "- 은닉 상태와 달리 다음 층으로 안 가고 LSTM 셀에서만 순환되는 셀 상태라는 것이 있음\n",
    "- 삭제 게이트가 전 정보를 삭제할지 결정\n",
    "- 입력 게이트가 새 정보를 셀 상태에 추가할지 결정\n",
    "- 계속해서 업데이트를 하고 출력 게이트가 최종 셀 상태를 출력"
   ]
  },
  {
   "cell_type": "markdown",
   "metadata": {
    "id": "MyQa-kIllcEB"
   },
   "source": [
    "# GRU\n",
    "- LSTM의 간소화 버전\n",
    "- 새 정보를 받을지 지울지 결정하고 최종 결과를 출력"
   ]
  },
  {
   "cell_type": "code",
   "execution_count": null,
   "metadata": {},
   "outputs": [],
   "source": []
  }
 ],
 "metadata": {
  "colab": {
   "authorship_tag": "ABX9TyMbPbVUxlDzAYpvXIXIMisX",
   "provenance": []
  },
  "kernelspec": {
   "display_name": "Python 3 (ipykernel)",
   "language": "python",
   "name": "python3"
  },
  "language_info": {
   "codemirror_mode": {
    "name": "ipython",
    "version": 3
   },
   "file_extension": ".py",
   "mimetype": "text/x-python",
   "name": "python",
   "nbconvert_exporter": "python",
   "pygments_lexer": "ipython3",
   "version": "3.13.2"
  }
 },
 "nbformat": 4,
 "nbformat_minor": 4
}
